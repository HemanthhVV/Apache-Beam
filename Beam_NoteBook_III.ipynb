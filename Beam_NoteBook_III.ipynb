{
  "nbformat": 4,
  "nbformat_minor": 0,
  "metadata": {
    "colab": {
      "provenance": [],
      "authorship_tag": "ABX9TyNByj2qM9iZziLoa9cD30O9",
      "include_colab_link": true
    },
    "kernelspec": {
      "name": "python3",
      "display_name": "Python 3"
    },
    "language_info": {
      "name": "python"
    }
  },
  "cells": [
    {
      "cell_type": "markdown",
      "metadata": {
        "id": "view-in-github",
        "colab_type": "text"
      },
      "source": [
        "<a href=\"https://colab.research.google.com/github/HemanthhVV/Apache-Beam/blob/main/Beam_NoteBook_III.ipynb\" target=\"_parent\"><img src=\"https://colab.research.google.com/assets/colab-badge.svg\" alt=\"Open In Colab\"/></a>"
      ]
    },
    {
      "cell_type": "code",
      "execution_count": null,
      "metadata": {
        "id": "TnfYteFrbF0L"
      },
      "outputs": [],
      "source": [
        "# !pip install apache-beam"
      ]
    },
    {
      "cell_type": "code",
      "source": [
        "!pip install apache-beam[interactive]"
      ],
      "metadata": {
        "id": "ayPWbSzehLmR"
      },
      "execution_count": null,
      "outputs": []
    },
    {
      "cell_type": "code",
      "source": [
        "import apache_beam as beam"
      ],
      "metadata": {
        "id": "pVf-0WGqbOL5"
      },
      "execution_count": null,
      "outputs": []
    },
    {
      "cell_type": "markdown",
      "source": [
        "## ParDo and Other Functions in Beam"
      ],
      "metadata": {
        "id": "Dr-11j4jeAeQ"
      }
    },
    {
      "cell_type": "code",
      "source": [
        "dir(beam)"
      ],
      "metadata": {
        "id": "3qYtg97obcLz"
      },
      "execution_count": null,
      "outputs": []
    },
    {
      "cell_type": "code",
      "source": [
        "dir(beam.stats)"
      ],
      "metadata": {
        "id": "A3u-tlH-bf3Y"
      },
      "execution_count": null,
      "outputs": []
    },
    {
      "cell_type": "code",
      "source": [
        "class SplitUp(beam.DoFn):\n",
        "    def process(self,input):\n",
        "        return input.split() | beam.combiners.Count.Globally()\n",
        "# def Counter(input):\n",
        "#     return input | beam.ParDo(SplitUp()) | beam.combiners.Count()\n",
        "with beam.Pipeline() as p:\n",
        "    input = p | beam.Create([\"How are you bagga yaro?\"])\n",
        "    input | beam.ParDo(SplitUp()) | beam.Map(print)"
      ],
      "metadata": {
        "colab": {
          "base_uri": "https://localhost:8080/",
          "height": 73
        },
        "id": "QztmAbVhbjch",
        "outputId": "43cc349c-1c14-4bed-bc24-02d2631a1bf7"
      },
      "execution_count": null,
      "outputs": [
        {
          "output_type": "display_data",
          "data": {
            "application/javascript": [
              "\n",
              "        if (typeof window.interactive_beam_jquery == 'undefined') {\n",
              "          var jqueryScript = document.createElement('script');\n",
              "          jqueryScript.src = 'https://code.jquery.com/jquery-3.4.1.slim.min.js';\n",
              "          jqueryScript.type = 'text/javascript';\n",
              "          jqueryScript.onload = function() {\n",
              "            var datatableScript = document.createElement('script');\n",
              "            datatableScript.src = 'https://cdn.datatables.net/1.10.20/js/jquery.dataTables.min.js';\n",
              "            datatableScript.type = 'text/javascript';\n",
              "            datatableScript.onload = function() {\n",
              "              window.interactive_beam_jquery = jQuery.noConflict(true);\n",
              "              window.interactive_beam_jquery(document).ready(function($){\n",
              "                \n",
              "              });\n",
              "            }\n",
              "            document.head.appendChild(datatableScript);\n",
              "          };\n",
              "          document.head.appendChild(jqueryScript);\n",
              "        } else {\n",
              "          window.interactive_beam_jquery(document).ready(function($){\n",
              "            \n",
              "          });\n",
              "        }"
            ]
          },
          "metadata": {}
        },
        {
          "output_type": "stream",
          "name": "stderr",
          "text": [
            "WARNING:apache_beam.options.pipeline_options:Discarding unparseable args: ['/usr/local/lib/python3.10/dist-packages/colab_kernel_launcher.py', '-f', '/root/.local/share/jupyter/runtime/kernel-7a36c128-502d-44dd-a460-72ca4c1f3f25.json']\n"
          ]
        },
        {
          "output_type": "stream",
          "name": "stdout",
          "text": [
            "5\n"
          ]
        }
      ]
    },
    {
      "cell_type": "code",
      "source": [
        "class Output(beam.PTransform):\n",
        "    class _OutputFn(beam.DoFn):\n",
        "        def __init__(self, prefix=''):\n",
        "            super().__init__()\n",
        "            self.prefix = prefix\n",
        "\n",
        "        def process(self, element):\n",
        "            print(self.prefix+str(element))\n",
        "\n",
        "    def __init__(self, label=None,prefix=''):\n",
        "        super().__init__(label)\n",
        "        self.prefix = prefix\n",
        "\n",
        "    def expand(self, input):\n",
        "        input | \"Output\" >> beam.ParDo(self._OutputFn(self.prefix))\n",
        "\n",
        "\n",
        "# DoFn with tokenize function\n",
        "class BreakIntoWordsDoFn(beam.DoFn):\n",
        "    def process(self, element):\n",
        "        return element.split() | \"Filtered\"  >> beam.Filter(lambda word:word.startswith(\"H\")) | \"Counted\" >> beam.combiners.Count.Globally()\n",
        "\n",
        "\n",
        "with beam.Pipeline() as p:\n",
        "  (p | \"Creating Data\" >> beam.Create(['Hello Beam', 'It is awesome'])\n",
        "     # Transform with tokenize DoFn operation\n",
        "     | \"Transformation Starts\" >> beam.ParDo(BreakIntoWordsDoFn())\n",
        "     | \"Transformation Completes\" >> Output())"
      ],
      "metadata": {
        "colab": {
          "base_uri": "https://localhost:8080/"
        },
        "id": "fkCOeF3wchfF",
        "outputId": "2d7536b6-cc34-49c6-c843-44bb746e68eb"
      },
      "execution_count": null,
      "outputs": [
        {
          "output_type": "stream",
          "name": "stderr",
          "text": [
            "WARNING:apache_beam.options.pipeline_options:Discarding unparseable args: ['/usr/local/lib/python3.10/dist-packages/colab_kernel_launcher.py', '-f', '/root/.local/share/jupyter/runtime/kernel-7a36c128-502d-44dd-a460-72ca4c1f3f25.json']\n",
            "WARNING:apache_beam.options.pipeline_options:Discarding unparseable args: ['/usr/local/lib/python3.10/dist-packages/colab_kernel_launcher.py', '-f', '/root/.local/share/jupyter/runtime/kernel-7a36c128-502d-44dd-a460-72ca4c1f3f25.json']\n",
            "WARNING:apache_beam.options.pipeline_options:Discarding unparseable args: ['/usr/local/lib/python3.10/dist-packages/colab_kernel_launcher.py', '-f', '/root/.local/share/jupyter/runtime/kernel-7a36c128-502d-44dd-a460-72ca4c1f3f25.json']\n"
          ]
        },
        {
          "output_type": "stream",
          "name": "stdout",
          "text": [
            "1\n"
          ]
        },
        {
          "output_type": "stream",
          "name": "stderr",
          "text": [
            "WARNING:apache_beam.options.pipeline_options:Discarding unparseable args: ['/usr/local/lib/python3.10/dist-packages/colab_kernel_launcher.py', '-f', '/root/.local/share/jupyter/runtime/kernel-7a36c128-502d-44dd-a460-72ca4c1f3f25.json']\n"
          ]
        },
        {
          "output_type": "stream",
          "name": "stdout",
          "text": [
            "0\n"
          ]
        }
      ]
    },
    {
      "cell_type": "code",
      "source": [
        "with beam.Pipeline() as p:\n",
        "    words_with_counts = p | 'Create words with counts' >> beam.Create([\n",
        "    ('Hello', 1), ('World', 2), ('How', 3), ('are', 4), ('you', 5)])\n",
        "\n",
        "    split_words = words_with_counts | 'Split words' >> beam.FlatMap(\n",
        "    lambda word_with_count: [word_with_count[0]] * word_with_count[1])\n",
        "\n",
        "    split_words | beam.Map(print)"
      ],
      "metadata": {
        "colab": {
          "base_uri": "https://localhost:8080/"
        },
        "id": "5ZtY9HfChlRV",
        "outputId": "98b4b4d7-d424-4c47-c149-17616ee6a961"
      },
      "execution_count": null,
      "outputs": [
        {
          "output_type": "stream",
          "name": "stdout",
          "text": [
            "Hello\n",
            "World\n",
            "World\n",
            "How\n",
            "How\n",
            "How\n",
            "are\n",
            "are\n",
            "are\n",
            "are\n",
            "you\n",
            "you\n",
            "you\n",
            "you\n",
            "you\n"
          ]
        }
      ]
    },
    {
      "cell_type": "code",
      "source": [
        "p = split_words | beam.Map(print)"
      ],
      "metadata": {
        "id": "XTxKhSWEiap4"
      },
      "execution_count": null,
      "outputs": []
    },
    {
      "cell_type": "code",
      "source": [
        "p"
      ],
      "metadata": {
        "colab": {
          "base_uri": "https://localhost:8080/"
        },
        "id": "K2RGRoQridGr",
        "outputId": "ac0d15ca-91c9-4579-adcf-d6eb466eddc1"
      },
      "execution_count": null,
      "outputs": [
        {
          "output_type": "execute_result",
          "data": {
            "text/plain": [
              "<PCollection[[14]: Map(print).None] at 0x7b9b0fe23a30>"
            ]
          },
          "metadata": {},
          "execution_count": 15
        }
      ]
    },
    {
      "cell_type": "code",
      "source": [
        "import datetime"
      ],
      "metadata": {
        "id": "zKpNGQ6S37WR"
      },
      "execution_count": null,
      "outputs": []
    },
    {
      "cell_type": "code",
      "source": [
        "import pytz"
      ],
      "metadata": {
        "id": "MTnBJtj5imJE"
      },
      "execution_count": null,
      "outputs": []
    },
    {
      "cell_type": "code",
      "source": [
        "pytz.utc"
      ],
      "metadata": {
        "colab": {
          "base_uri": "https://localhost:8080/"
        },
        "id": "NJwyvH9N3-aY",
        "outputId": "8badff53-fd42-41a3-f927-99b3fc04b42e"
      },
      "execution_count": null,
      "outputs": [
        {
          "output_type": "execute_result",
          "data": {
            "text/plain": [
              "<UTC>"
            ]
          },
          "metadata": {},
          "execution_count": 18
        }
      ]
    },
    {
      "cell_type": "code",
      "source": [
        "datetime.datetime(2020, 3, 4, 0, 0, 0, 0, tzinfo=pytz.UTC)"
      ],
      "metadata": {
        "colab": {
          "base_uri": "https://localhost:8080/"
        },
        "id": "OHMQm3XV4DL2",
        "outputId": "641125f5-bff9-4365-c72e-837bee1a6fcd"
      },
      "execution_count": null,
      "outputs": [
        {
          "output_type": "execute_result",
          "data": {
            "text/plain": [
              "datetime.datetime(2020, 3, 4, 0, 0, tzinfo=<UTC>)"
            ]
          },
          "metadata": {},
          "execution_count": 19
        }
      ]
    },
    {
      "cell_type": "code",
      "source": [
        "from apache_beam import window\n",
        "\n",
        "\n",
        "class Output(beam.PTransform):\n",
        "    class _OutputFn(beam.DoFn):\n",
        "        def __init__(self, prefix=''):\n",
        "            super().__init__()\n",
        "            self.prefix = prefix\n",
        "\n",
        "        def process(self, element):\n",
        "            print(self.prefix+str(element))\n",
        "\n",
        "    def __init__(self, label=None,prefix=''):\n",
        "        super().__init__(label)\n",
        "        self.prefix = prefix\n",
        "\n",
        "    def expand(self, input):\n",
        "        input | beam.ParDo(self._OutputFn(self.prefix))\n",
        "\n",
        "class Event:\n",
        "    def __init__(self, id, event, timestamp):\n",
        "        self.id = id\n",
        "        self.event = event\n",
        "        self.timestamp = timestamp\n",
        "\n",
        "    def __str__(self) -> str:\n",
        "        return f'Event({self.id}, {self.event}, {self.timestamp})'\n",
        "\n",
        "\n",
        "class AddTimestampDoFn(beam.DoFn):\n",
        "    def process(self, element, **kwargs):\n",
        "        unix_timestamp = element.timestamp.timestamp()\n",
        "        yield window.TimestampedValue(element, unix_timestamp)\n",
        "\n",
        "\n",
        "with beam.Pipeline() as p:\n",
        "  (p | beam.Create([\n",
        "          Event('1', 'book-order', datetime.datetime(2020, 3, 4, 0, 0, 0, 0, tzinfo=pytz.UTC)),\n",
        "          Event('2', 'pencil-order', datetime.datetime(2020, 3, 5, 0, 0, 0, 0, tzinfo=pytz.UTC)),\n",
        "          Event('3', 'paper-order', datetime.datetime(2020, 3, 6, 0, 0, 0, 0, tzinfo=pytz.UTC)),\n",
        "          Event('4', 'pencil-order', datetime.datetime(2020, 3, 7, 0, 0, 0, 0, tzinfo=pytz.UTC)),\n",
        "          Event('5', 'book-order', datetime.datetime(2020, 3, 8, 0, 0, 0, 0, tzinfo=pytz.UTC)),\n",
        "       ])\n",
        "     | beam.ParDo(AddTimestampDoFn())\n",
        "     | 'Log words' >> Output())\n"
      ],
      "metadata": {
        "colab": {
          "base_uri": "https://localhost:8080/"
        },
        "id": "ud_yBB3j4Kqs",
        "outputId": "b5d3012d-5be0-4c4f-fc28-ec80a781f206"
      },
      "execution_count": null,
      "outputs": [
        {
          "output_type": "stream",
          "name": "stdout",
          "text": [
            "Event(1, book-order, 2020-03-04 00:00:00+00:00)\n",
            "Event(2, pencil-order, 2020-03-05 00:00:00+00:00)\n",
            "Event(3, paper-order, 2020-03-06 00:00:00+00:00)\n",
            "Event(4, pencil-order, 2020-03-07 00:00:00+00:00)\n",
            "Event(5, book-order, 2020-03-08 00:00:00+00:00)\n"
          ]
        }
      ]
    }
  ]
}