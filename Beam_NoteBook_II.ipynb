{
  "nbformat": 4,
  "nbformat_minor": 0,
  "metadata": {
    "colab": {
      "provenance": [],
      "authorship_tag": "ABX9TyOaJJU/mxx/a4Q4RlqPBamc",
      "include_colab_link": true
    },
    "kernelspec": {
      "name": "python3",
      "display_name": "Python 3"
    },
    "language_info": {
      "name": "python"
    }
  },
  "cells": [
    {
      "cell_type": "markdown",
      "metadata": {
        "id": "view-in-github",
        "colab_type": "text"
      },
      "source": [
        "<a href=\"https://colab.research.google.com/github/HemanthhVV/Apache-Beam/blob/main/Beam_NoteBook_II.ipynb\" target=\"_parent\"><img src=\"https://colab.research.google.com/assets/colab-badge.svg\" alt=\"Open In Colab\"/></a>"
      ]
    },
    {
      "cell_type": "code",
      "execution_count": null,
      "metadata": {
        "id": "h5eetvwI-eHq"
      },
      "outputs": [],
      "source": [
        "!pip install apache-beam"
      ]
    },
    {
      "cell_type": "code",
      "source": [
        "import apache_beam as beam"
      ],
      "metadata": {
        "id": "Tx-bHlfa_lKi"
      },
      "execution_count": null,
      "outputs": []
    },
    {
      "cell_type": "markdown",
      "source": [
        "## ***Filter***\n",
        "\n"
      ],
      "metadata": {
        "id": "t1Yt_CX4_ncy"
      }
    },
    {
      "cell_type": "code",
      "source": [
        "def is_perennial(plant):\n",
        "  return plant['duration'] == 'perennial'\n",
        "\n",
        "with beam.Pipeline() as p:\n",
        "  perennials = (\n",
        "      p | 'Gardening plants' >> beam.Create([\n",
        "          {\n",
        "              'icon': '🍓', 'name': 'Strawberry', 'duration': 'perennial'\n",
        "          },\n",
        "          {\n",
        "              'icon': '🥕', 'name': 'Carrot', 'duration': 'biennial'\n",
        "          },\n",
        "          {\n",
        "              'icon': '🍆', 'name': 'Eggplant', 'duration': 'perennial'\n",
        "          },\n",
        "          {\n",
        "              'icon': '🍅', 'name': 'Tomato', 'duration': 'annual'\n",
        "          },\n",
        "          {\n",
        "              'icon': '🥔', 'name': 'Potato', 'duration': 'perennial'\n",
        "          },\n",
        "      ])\n",
        "      | 'Filter perennials' >> beam.Filter(is_perennial)\n",
        "      | beam.Map(print))\n"
      ],
      "metadata": {
        "colab": {
          "base_uri": "https://localhost:8080/",
          "height": 109
        },
        "id": "isNz9kGoEcuN",
        "outputId": "30e08d77-932d-48ec-86a5-078c9db7650d"
      },
      "execution_count": null,
      "outputs": [
        {
          "output_type": "stream",
          "name": "stderr",
          "text": [
            "WARNING:apache_beam.runners.interactive.interactive_environment:Dependencies required for Interactive Beam PCollection visualization are not available, please use: `pip install apache-beam[interactive]` to install necessary dependencies to enable all data visualization features.\n"
          ]
        },
        {
          "output_type": "display_data",
          "data": {
            "application/javascript": [
              "\n",
              "        if (typeof window.interactive_beam_jquery == 'undefined') {\n",
              "          var jqueryScript = document.createElement('script');\n",
              "          jqueryScript.src = 'https://code.jquery.com/jquery-3.4.1.slim.min.js';\n",
              "          jqueryScript.type = 'text/javascript';\n",
              "          jqueryScript.onload = function() {\n",
              "            var datatableScript = document.createElement('script');\n",
              "            datatableScript.src = 'https://cdn.datatables.net/1.10.20/js/jquery.dataTables.min.js';\n",
              "            datatableScript.type = 'text/javascript';\n",
              "            datatableScript.onload = function() {\n",
              "              window.interactive_beam_jquery = jQuery.noConflict(true);\n",
              "              window.interactive_beam_jquery(document).ready(function($){\n",
              "                \n",
              "              });\n",
              "            }\n",
              "            document.head.appendChild(datatableScript);\n",
              "          };\n",
              "          document.head.appendChild(jqueryScript);\n",
              "        } else {\n",
              "          window.interactive_beam_jquery(document).ready(function($){\n",
              "            \n",
              "          });\n",
              "        }"
            ]
          },
          "metadata": {}
        },
        {
          "output_type": "stream",
          "name": "stdout",
          "text": [
            "{'icon': '🍓', 'name': 'Strawberry', 'duration': 'perennial'}\n",
            "{'icon': '🍆', 'name': 'Eggplant', 'duration': 'perennial'}\n",
            "{'icon': '🥔', 'name': 'Potato', 'duration': 'perennial'}\n"
          ]
        }
      ]
    },
    {
      "cell_type": "code",
      "source": [
        "#Similarly with the anonymous function\n",
        "with beam.Pipeline() as p:\n",
        "  perennials = (\n",
        "      p | 'Gardening plants' >> beam.Create([\n",
        "          {\n",
        "              'icon': '🍓', 'name': 'Strawberry', 'duration': 'perennial'\n",
        "          },\n",
        "          {\n",
        "              'icon': '🥕', 'name': 'Carrot', 'duration': 'biennial'\n",
        "          },\n",
        "          {\n",
        "              'icon': '🍆', 'name': 'Eggplant', 'duration': 'perennial'\n",
        "          },\n",
        "          {\n",
        "              'icon': '🍅', 'name': 'Tomato', 'duration': 'annual'\n",
        "          },\n",
        "          {\n",
        "              'icon': '🥔', 'name': 'Potato', 'duration': 'perennial'\n",
        "          },\n",
        "      ])\n",
        "      | 'Filter perennials' >>\n",
        "      beam.Filter(lambda plant: plant['duration'] == 'perennial')\n",
        "      | beam.Map(print))"
      ],
      "metadata": {
        "colab": {
          "base_uri": "https://localhost:8080/"
        },
        "id": "GJJ8uaHBEgOF",
        "outputId": "de62bf01-1116-4e47-a869-6a3b744efbb0"
      },
      "execution_count": null,
      "outputs": [
        {
          "output_type": "stream",
          "name": "stdout",
          "text": [
            "{'icon': '🍓', 'name': 'Strawberry', 'duration': 'perennial'}\n",
            "{'icon': '🍆', 'name': 'Eggplant', 'duration': 'perennial'}\n",
            "{'icon': '🥔', 'name': 'Potato', 'duration': 'perennial'}\n"
          ]
        }
      ]
    },
    {
      "cell_type": "markdown",
      "source": [
        "### Usually note tht the Filter Func takes the function or anonymous line as it's first argument and then it takes the variables that will be used for the UDF/anonymous function, as we can see in the above example"
      ],
      "metadata": {
        "id": "6AHNXxfhI9zW"
      }
    },
    {
      "cell_type": "code",
      "source": [
        "#Multiple args Filtering\n",
        "def FilteringWithMultiArgs(plant,duration):\n",
        "    return plant['duration'] == duration\n",
        "\n",
        "with beam.Pipeline() as p:\n",
        "  perennials = (\n",
        "      p | 'Gardening plants' >> beam.Create([\n",
        "          {\n",
        "              'icon': '🍓', 'name': 'Strawberry', 'duration': 'perennial'\n",
        "          },\n",
        "          {\n",
        "              'icon': '🥕', 'name': 'Carrot', 'duration': 'biennial'\n",
        "          },\n",
        "          {\n",
        "              'icon': '🍆', 'name': 'Eggplant', 'duration': 'perennial'\n",
        "          },\n",
        "          {\n",
        "              'icon': '🍅', 'name': 'Tomato', 'duration': 'annual'\n",
        "          },\n",
        "          {\n",
        "              'icon': '🥔', 'name': 'Potato', 'duration': 'perennial'\n",
        "          },\n",
        "      ])\n",
        "      | 'Filter perennials' >>\n",
        "      beam.Filter(FilteringWithMultiArgs,'annual')\n",
        "      | beam.Map(print))"
      ],
      "metadata": {
        "colab": {
          "base_uri": "https://localhost:8080/"
        },
        "id": "n2FgpvjSGx3U",
        "outputId": "44cf80e4-519d-4185-a38a-3eb29e858871"
      },
      "execution_count": null,
      "outputs": [
        {
          "output_type": "stream",
          "name": "stdout",
          "text": [
            "{'icon': '🍅', 'name': 'Tomato', 'duration': 'annual'}\n"
          ]
        }
      ]
    },
    {
      "cell_type": "code",
      "source": [
        "#Passing as a singleton object\n",
        "with beam.Pipeline() as p:\n",
        "  perennial = p | 'Perennial' >> beam.Create(['perennial'])\n",
        "\n",
        "  perennials = (\n",
        "      p | 'Gardening plants' >> beam.Create([\n",
        "          {\n",
        "              'icon': '🍓', 'name': 'Strawberry', 'duration': 'perennial'\n",
        "          },\n",
        "          {\n",
        "              'icon': '🥕', 'name': 'Carrot', 'duration': 'biennial'\n",
        "          },\n",
        "          {\n",
        "              'icon': '🍆', 'name': 'Eggplant', 'duration': 'perennial'\n",
        "          },\n",
        "          {\n",
        "              'icon': '🍅', 'name': 'Tomato', 'duration': 'annual'\n",
        "          },\n",
        "          {\n",
        "              'icon': '🥔', 'name': 'Potato', 'duration': 'perennial'\n",
        "          },\n",
        "      ])\n",
        "      | 'Filter perennials' >> beam.Filter(\n",
        "          lambda plant,duration: plant['duration'] == duration, #func argument\n",
        "          duration=beam.pvalue.AsSingleton(perennial), #defining the variable argument \"duration for the lambda func\"\n",
        "      )\n",
        "      | beam.Map(print))\n"
      ],
      "metadata": {
        "colab": {
          "base_uri": "https://localhost:8080/"
        },
        "id": "ybRzKoz3HTI_",
        "outputId": "4c76d975-859e-4fe2-b74b-f44f5a1d5a91"
      },
      "execution_count": null,
      "outputs": [
        {
          "output_type": "stream",
          "name": "stdout",
          "text": [
            "{'icon': '🍓', 'name': 'Strawberry', 'duration': 'perennial'}\n",
            "{'icon': '🍆', 'name': 'Eggplant', 'duration': 'perennial'}\n",
            "{'icon': '🥔', 'name': 'Potato', 'duration': 'perennial'}\n"
          ]
        }
      ]
    },
    {
      "cell_type": "code",
      "source": [
        "# Iterating via specific list of Objects\n",
        "with beam.Pipeline() as p:\n",
        "  iter_perennial = p | 'Perennial' >> beam.Create([\n",
        "      'perennial',\n",
        "      'annual'\n",
        "      ])\n",
        "\n",
        "  perennials = (\n",
        "      p | 'Gardening plants' >> beam.Create([\n",
        "          {\n",
        "              'icon': '🍓', 'name': 'Strawberry', 'duration': 'perennial'\n",
        "          },\n",
        "          {\n",
        "              'icon': '🥕', 'name': 'Carrot', 'duration': 'biennial'\n",
        "          },\n",
        "          {\n",
        "              'icon': '🍆', 'name': 'Eggplant', 'duration': 'perennial'\n",
        "          },\n",
        "          {\n",
        "              'icon': '🍅', 'name': 'Tomato', 'duration': 'annual'\n",
        "          },\n",
        "          {\n",
        "              'icon': '🥔', 'name': 'Potato', 'duration': 'perennial'\n",
        "          },\n",
        "      ])\n",
        "      | 'Filter perennials' >> beam.Filter(\n",
        "          lambda plant,duration: plant['duration'] in duration,\n",
        "          duration=beam.pvalue.AsIter(iter_perennial)\n",
        "      )\n",
        "      | beam.Map(print))\n"
      ],
      "metadata": {
        "colab": {
          "base_uri": "https://localhost:8080/"
        },
        "id": "rRiKlPL8JpXl",
        "outputId": "d2867a04-5b5b-4172-b67a-9b09c29fc90f"
      },
      "execution_count": null,
      "outputs": [
        {
          "output_type": "stream",
          "name": "stdout",
          "text": [
            "{'icon': '🍓', 'name': 'Strawberry', 'duration': 'perennial'}\n",
            "{'icon': '🍆', 'name': 'Eggplant', 'duration': 'perennial'}\n",
            "{'icon': '🍅', 'name': 'Tomato', 'duration': 'annual'}\n",
            "{'icon': '🥔', 'name': 'Potato', 'duration': 'perennial'}\n"
          ]
        }
      ]
    },
    {
      "cell_type": "code",
      "source": [
        "\n",
        "with beam.Pipeline() as p:\n",
        "  keep_duration = p | 'Duration filters' >> beam.Create([\n",
        "      ('annual', False),\n",
        "      ('biennial', False),\n",
        "      ('perennial', True),\n",
        "  ])\n",
        "\n",
        "  perennials = (\n",
        "      p | 'Gardening plants' >> beam.Create([\n",
        "          {\n",
        "              'icon': '🍓', 'name': 'Strawberry', 'duration': 'perennial'\n",
        "          },\n",
        "          {\n",
        "              'icon': '🥕', 'name': 'Carrot', 'duration': 'biennial'\n",
        "          },\n",
        "          {\n",
        "              'icon': '🍆', 'name': 'Eggplant', 'duration': 'perennial'\n",
        "          },\n",
        "          {\n",
        "              'icon': '🍅', 'name': 'Tomato', 'duration': 'annual'\n",
        "          },\n",
        "          {\n",
        "              'icon': '🥔', 'name': 'Potato', 'duration': 'perennial'\n",
        "          },\n",
        "      ])\n",
        "      | 'Filter perennials' >> beam.Filter(\n",
        "          lambda plant,\n",
        "          duration: duration[plant['duration']],\n",
        "          duration=beam.pvalue.AsDict(keep_duration),\n",
        "      )\n",
        "      | beam.Map(print))\n"
      ],
      "metadata": {
        "colab": {
          "base_uri": "https://localhost:8080/"
        },
        "id": "5neHKgmaKSAK",
        "outputId": "466871e6-1fd4-447f-860c-91ddec676a93"
      },
      "execution_count": null,
      "outputs": [
        {
          "output_type": "stream",
          "name": "stdout",
          "text": [
            "{'icon': '🍓', 'name': 'Strawberry', 'duration': 'perennial'}\n",
            "{'icon': '🍆', 'name': 'Eggplant', 'duration': 'perennial'}\n",
            "{'icon': '🥔', 'name': 'Potato', 'duration': 'perennial'}\n"
          ]
        }
      ]
    },
    {
      "cell_type": "markdown",
      "source": [
        "### Task is to find the word starts with letter 'a' and convert it into the UpperCase"
      ],
      "metadata": {
        "id": "SDCRjQaUK06_"
      }
    },
    {
      "cell_type": "code",
      "source": [
        "class Finder(beam.DoFn):\n",
        "    def __init__(self,delimeter = ' '):\n",
        "        self.delimeter = delimeter\n",
        "    def process(self,text):\n",
        "        for word in text.split(self.delimeter):\n",
        "            yield word\n",
        "\n",
        "class Output(beam.PTransform):\n",
        "    class _Transform(beam.DoFn):\n",
        "        def __init__(self,prefix):\n",
        "            super().__init__\n",
        "            self.prefix = prefix\n",
        "        def process(self,elemnt):\n",
        "            print(self.prefix + str(elemnt))\n",
        "    def __init__(self,prefix = '',label = None):\n",
        "        super().__init__(label)\n",
        "        self.prefix = prefix\n",
        "    def expand(self,input):\n",
        "        input | beam.ParDo(self._Transform(self.prefix))"
      ],
      "metadata": {
        "id": "H27sxL-SNyHc"
      },
      "execution_count": null,
      "outputs": []
    },
    {
      "cell_type": "code",
      "source": [
        "with beam.Pipeline() as p:\n",
        "    p \\\n",
        "    |beam.Create([\"To be, or not to be: that is the question:Whether 'tis nobler in the mind to suffer The slings and arrows of outrageous fortune,Or to take arms against a sea of troubles,And by opposing end them. To die: to sleep\"])\\\n",
        "    | beam.ParDo(Finder())\\\n",
        "    | beam.Filter(lambda word: word.startswith(\"a\"))\\\n",
        "    | Output(prefix='PCollection filtered value: ')\n"
      ],
      "metadata": {
        "colab": {
          "base_uri": "https://localhost:8080/"
        },
        "id": "3bTPiKBbQWWI",
        "outputId": "ddedfdb3-a6a8-4899-f080-ee000f4413be"
      },
      "execution_count": null,
      "outputs": [
        {
          "output_type": "stream",
          "name": "stdout",
          "text": [
            "PCollection filtered value: and\n",
            "PCollection filtered value: arrows\n",
            "PCollection filtered value: arms\n",
            "PCollection filtered value: against\n",
            "PCollection filtered value: a\n"
          ]
        }
      ]
    },
    {
      "cell_type": "markdown",
      "source": [
        "### Aggregating"
      ],
      "metadata": {
        "id": "6_w2U928RBU-"
      }
    },
    {
      "cell_type": "markdown",
      "source": [
        "#### Count"
      ],
      "metadata": {
        "id": "aWUwfVvAV_GJ"
      }
    },
    {
      "cell_type": "code",
      "source": [
        "with beam.Pipeline() as p:\n",
        "  total_elements = (\n",
        "      p | 'Create plants' >> beam.Create(['🍓', '🥕', '🥕', '🥕', '🍆', '🍆', '🍅', '🍅', '🍅', '🌽'])\n",
        "      | 'Count all elements' >> beam.combiners.Count.Globally()\n",
        "      | beam.Map(print))"
      ],
      "metadata": {
        "colab": {
          "base_uri": "https://localhost:8080/"
        },
        "id": "tPdJ-gNCS3pB",
        "outputId": "5eda06aa-1988-4d46-bdf3-08de90f676f4"
      },
      "execution_count": null,
      "outputs": [
        {
          "output_type": "stream",
          "name": "stdout",
          "text": [
            "10\n"
          ]
        }
      ]
    },
    {
      "cell_type": "code",
      "source": [
        "with beam.Pipeline() as p:\n",
        "  total_elements = (\n",
        "      p | 'Create plants' >> beam.Create(['🍓', '🥕', '🥕', '🥕', '🍆', '🍆', '🍅', '🍅', '🍅', '🌽'])\n",
        "      | 'Count all elements' >> beam.combiners.Count.PerElement()\n",
        "      | beam.Map(print))"
      ],
      "metadata": {
        "colab": {
          "base_uri": "https://localhost:8080/"
        },
        "id": "BxDvtYcMS7IT",
        "outputId": "69f2a285-c890-4b93-98ec-817ae2a07a0f"
      },
      "execution_count": null,
      "outputs": [
        {
          "output_type": "stream",
          "name": "stdout",
          "text": [
            "('🍓', 1)\n",
            "('🥕', 3)\n",
            "('🍆', 2)\n",
            "('🍅', 3)\n",
            "('🌽', 1)\n"
          ]
        }
      ]
    },
    {
      "cell_type": "code",
      "source": [
        "with beam.Pipeline() as p:\n",
        "  total_elements_per_keys = (\n",
        "      p | 'Create plants' >> beam.Create([\n",
        "          ('spring', '🍓'),\n",
        "          ('spring', '🥕'),\n",
        "          ('summer', '🥕'),\n",
        "          ('fall', '🥕'),\n",
        "          ('spring', '🍆'),\n",
        "          ('winter', '🍆'),\n",
        "          ('spring', '🍅'),\n",
        "          ('summer', '🍅'),\n",
        "          ('fall', '🍅'),\n",
        "          ('summer', '🌽'),])\n",
        "      | 'Count elements per key' >> beam.combiners.Count.PerKey()\n",
        "      | beam.Map(print))"
      ],
      "metadata": {
        "colab": {
          "base_uri": "https://localhost:8080/"
        },
        "id": "2Exs2S6gS-eN",
        "outputId": "89c17887-915a-46d0-deeb-b7bbc3cc4a7e"
      },
      "execution_count": null,
      "outputs": [
        {
          "output_type": "stream",
          "name": "stdout",
          "text": [
            "('spring', 4)\n",
            "('summer', 3)\n",
            "('fall', 2)\n",
            "('winter', 1)\n"
          ]
        }
      ]
    },
    {
      "cell_type": "code",
      "source": [
        "with beam.Pipeline() as p:\n",
        "    p | beam.Create([(1, 36), (2, 91), (3, 33), (3, 11), (4, 67),])\\\n",
        "  | beam.combiners.Count.PerKey() | beam.Map(print)"
      ],
      "metadata": {
        "colab": {
          "base_uri": "https://localhost:8080/"
        },
        "id": "lUWJxtrzTWZx",
        "outputId": "c3344c54-ad21-4229-c7d0-f524583b1302"
      },
      "execution_count": null,
      "outputs": [
        {
          "output_type": "stream",
          "name": "stdout",
          "text": [
            "(1, 1)\n",
            "(2, 1)\n",
            "(3, 2)\n",
            "(4, 1)\n"
          ]
        }
      ]
    },
    {
      "cell_type": "markdown",
      "source": [
        "### Task is to count the number of words from any paragraphs"
      ],
      "metadata": {
        "id": "Q2gAXQRATs-m"
      }
    },
    {
      "cell_type": "code",
      "source": [
        "#we are going to use the Finder function created above\n",
        "# Word Count in Beam\n",
        "with beam.Pipeline() as p:\n",
        "    p \\\n",
        "    |beam.Create([\"To be, or not to be: that is the question:Whether 'tis nobler in the mind to suffer The slings and arrows of outrageous fortune,Or to take arms against a sea of troubles,And by opposing end them. To die: to sleep\"])\\\n",
        "    | beam.ParDo(Finder())\\\n",
        "    | beam.combiners.Count.PerElement()\\\n",
        "    | beam.Map(print)"
      ],
      "metadata": {
        "colab": {
          "base_uri": "https://localhost:8080/"
        },
        "id": "YK_HV5Q_T7QO",
        "outputId": "896d47d2-36f8-4345-a423-c94f2051d3b1"
      },
      "execution_count": null,
      "outputs": [
        {
          "output_type": "stream",
          "name": "stdout",
          "text": [
            "('To', 2)\n",
            "('be,', 1)\n",
            "('or', 1)\n",
            "('not', 1)\n",
            "('to', 4)\n",
            "('be:', 1)\n",
            "('that', 1)\n",
            "('is', 1)\n",
            "('the', 2)\n",
            "('question:Whether', 1)\n",
            "(\"'tis\", 1)\n",
            "('nobler', 1)\n",
            "('in', 1)\n",
            "('mind', 1)\n",
            "('suffer', 1)\n",
            "('The', 1)\n",
            "('slings', 1)\n",
            "('and', 1)\n",
            "('arrows', 1)\n",
            "('of', 2)\n",
            "('outrageous', 1)\n",
            "('fortune,Or', 1)\n",
            "('take', 1)\n",
            "('arms', 1)\n",
            "('against', 1)\n",
            "('a', 1)\n",
            "('sea', 1)\n",
            "('troubles,And', 1)\n",
            "('by', 1)\n",
            "('opposing', 1)\n",
            "('end', 1)\n",
            "('them.', 1)\n",
            "('die:', 1)\n",
            "('sleep', 1)\n"
          ]
        }
      ]
    },
    {
      "cell_type": "markdown",
      "source": [
        "#### Sum"
      ],
      "metadata": {
        "id": "p7AdZT-eUQY-"
      }
    },
    {
      "cell_type": "code",
      "source": [
        "with beam.Pipeline() as p:\n",
        "  total_elements = (\n",
        "      p | 'Create plants' >> beam.Create([1,2,3,4,5])\n",
        "      | 'Count all elements' >> beam.CombineGlobally(sum)\n",
        "      | beam.Map(print))"
      ],
      "metadata": {
        "colab": {
          "base_uri": "https://localhost:8080/"
        },
        "id": "HuCmjH-aWFK5",
        "outputId": "a3627957-5d0a-4e74-f022-872765af5628"
      },
      "execution_count": null,
      "outputs": [
        {
          "output_type": "stream",
          "name": "stdout",
          "text": [
            "15\n"
          ]
        }
      ]
    },
    {
      "cell_type": "code",
      "source": [
        "with beam.Pipeline() as p:\n",
        "  totals_per_key = (\n",
        "      p | 'Create produce' >> beam.Create([\n",
        "          ('🥕', 3),\n",
        "          ('🥕', 2),\n",
        "          ('🍆', 1),\n",
        "          ('🍅', 4),\n",
        "          ('🍅', 5),\n",
        "          ('🍅', 3),])\n",
        "      | 'Sum values per key' >> beam.CombinePerKey(sum)\n",
        "      | beam.Map(print))"
      ],
      "metadata": {
        "colab": {
          "base_uri": "https://localhost:8080/"
        },
        "id": "I0MbnW17XARs",
        "outputId": "347c0030-756f-4b42-ef89-064107b4b42a"
      },
      "execution_count": null,
      "outputs": [
        {
          "output_type": "stream",
          "name": "stdout",
          "text": [
            "('🥕', 5)\n",
            "('🍆', 1)\n",
            "('🍅', 12)\n"
          ]
        }
      ]
    },
    {
      "cell_type": "markdown",
      "source": [
        "#### Task"
      ],
      "metadata": {
        "id": "09HQLrG-XiII"
      }
    },
    {
      "cell_type": "code",
      "source": [
        "with beam.Pipeline() as p:\n",
        "    p | beam.Create([(1, 36), (2, 91), (3, 33), (3, 11), (4, 67),])\\\n",
        "  | beam.CombinePerKey(sum) | beam.Map(print)"
      ],
      "metadata": {
        "colab": {
          "base_uri": "https://localhost:8080/"
        },
        "id": "lQ7mSf2_WeLQ",
        "outputId": "b44a1302-ac1d-486e-fc75-ae9e79689feb"
      },
      "execution_count": null,
      "outputs": [
        {
          "output_type": "stream",
          "name": "stdout",
          "text": [
            "(1, 36)\n",
            "(2, 91)\n",
            "(3, 44)\n",
            "(4, 67)\n"
          ]
        }
      ]
    },
    {
      "cell_type": "markdown",
      "source": [
        "#### Mean"
      ],
      "metadata": {
        "id": "VnhVu3qdW9P3"
      }
    },
    {
      "cell_type": "code",
      "source": [
        "with beam.Pipeline() as p:\n",
        "  total_elements = (\n",
        "      p | 'Create plants' >> beam.Create([1,2,3,4,5])\n",
        "      | beam.combiners.Mean.Globally()\n",
        "      | beam.Map(print))"
      ],
      "metadata": {
        "colab": {
          "base_uri": "https://localhost:8080/"
        },
        "id": "QxouKegrX9Ej",
        "outputId": "58a88b7e-0f2a-455a-8416-c8ff94ef4bce"
      },
      "execution_count": null,
      "outputs": [
        {
          "output_type": "stream",
          "name": "stdout",
          "text": [
            "3.0\n"
          ]
        }
      ]
    },
    {
      "cell_type": "code",
      "source": [
        "with beam.Pipeline() as p:\n",
        "    p | beam.Create([(1, 36), (2, 91), (3, 33), (3, 11), (4, 67),])\\\n",
        "  | beam.combiners.Mean.PerKey() | beam.Map(print)"
      ],
      "metadata": {
        "colab": {
          "base_uri": "https://localhost:8080/"
        },
        "id": "PsWCD1AUYJlO",
        "outputId": "e1624525-b81a-49fd-c762-a41287ebba5f"
      },
      "execution_count": null,
      "outputs": [
        {
          "output_type": "stream",
          "name": "stdout",
          "text": [
            "(1, 36.0)\n",
            "(2, 91.0)\n",
            "(3, 22.0)\n",
            "(4, 67.0)\n"
          ]
        }
      ]
    },
    {
      "cell_type": "markdown",
      "source": [
        "#### MIN"
      ],
      "metadata": {
        "id": "BTRVXwgIYTzN"
      }
    },
    {
      "cell_type": "code",
      "source": [
        "with beam.Pipeline() as p:\n",
        "  min_element = (\n",
        "      p | 'Create numbers' >> beam.Create(range(1,12))\n",
        "      | 'Get min value' >> beam.CombineGlobally(lambda elements: min(elements or [-1]))\n",
        "      | beam.Map(print))"
      ],
      "metadata": {
        "colab": {
          "base_uri": "https://localhost:8080/"
        },
        "id": "qHmR7ybmZVAZ",
        "outputId": "319adb6a-59cb-4dbb-bc60-8a755c3cd712"
      },
      "execution_count": null,
      "outputs": [
        {
          "output_type": "stream",
          "name": "stdout",
          "text": [
            "1\n"
          ]
        }
      ]
    },
    {
      "cell_type": "code",
      "source": [
        "with beam.Pipeline() as p:\n",
        "  min_element = (\n",
        "      p | 'Create numbers' >> beam.Create(range(1,12))\n",
        "      | 'Get min value' >> beam.combiners.Top.Smallest(5) #Usage of Top Func\n",
        "      | beam.Map(print))"
      ],
      "metadata": {
        "colab": {
          "base_uri": "https://localhost:8080/"
        },
        "id": "CygENdMGZZ2R",
        "outputId": "1b0cf3d5-2ede-478c-e061-489a6547cb03"
      },
      "execution_count": null,
      "outputs": [
        {
          "output_type": "stream",
          "name": "stdout",
          "text": [
            "[1, 2, 3, 4, 5]\n"
          ]
        }
      ]
    },
    {
      "cell_type": "code",
      "source": [
        "with beam.Pipeline() as p:\n",
        "    p | beam.Create([(1, 36), (2, 91), (3, 33), (3, 11), (4, 67),])\\\n",
        "  | beam.CombinePerKey(min) | beam.Map(print)"
      ],
      "metadata": {
        "colab": {
          "base_uri": "https://localhost:8080/"
        },
        "id": "cUpU9OnjZhYM",
        "outputId": "35df3de8-71ec-420b-f6f4-be6b577be6aa"
      },
      "execution_count": null,
      "outputs": [
        {
          "output_type": "stream",
          "name": "stdout",
          "text": [
            "(1, 36)\n",
            "(2, 91)\n",
            "(3, 11)\n",
            "(4, 67)\n"
          ]
        }
      ]
    },
    {
      "cell_type": "markdown",
      "source": [
        "### MAX"
      ],
      "metadata": {
        "id": "xAESb-g0Z0XW"
      }
    },
    {
      "cell_type": "code",
      "source": [
        "with beam.Pipeline() as p:\n",
        "  min_element = (\n",
        "      p | 'Create numbers' >> beam.Create(range(1,12))\n",
        "      | 'Get min value' >> beam.CombineGlobally(lambda elements: max(elements or None))\n",
        "      | beam.Map(print))"
      ],
      "metadata": {
        "colab": {
          "base_uri": "https://localhost:8080/"
        },
        "id": "crfxRAbGaAMA",
        "outputId": "480a181a-1355-45b1-8510-92d257e318e4"
      },
      "execution_count": null,
      "outputs": [
        {
          "output_type": "stream",
          "name": "stdout",
          "text": [
            "11\n"
          ]
        }
      ]
    },
    {
      "cell_type": "code",
      "source": [
        "with beam.Pipeline() as p:\n",
        "  min_element = (\n",
        "      p | 'Create numbers' >> beam.Create(range(1,12))\n",
        "      | 'Get min value' >> beam.combiners.Top.Largest(5) #Usage of Top Func\n",
        "      | beam.Map(print))"
      ],
      "metadata": {
        "colab": {
          "base_uri": "https://localhost:8080/"
        },
        "id": "xleB-IYJaE9Q",
        "outputId": "fd62b83d-4bca-4854-bf31-95da33c8bb1c"
      },
      "execution_count": null,
      "outputs": [
        {
          "output_type": "stream",
          "name": "stdout",
          "text": [
            "[11, 10, 9, 8, 7]\n"
          ]
        }
      ]
    },
    {
      "cell_type": "markdown",
      "source": [
        "### WithKeys"
      ],
      "metadata": {
        "id": "7Ke5_HSDaLZU"
      }
    },
    {
      "cell_type": "code",
      "source": [
        "with beam.Pipeline() as p:\n",
        "    p \\\n",
        "    | beam.Create(['apple', 'banana', 'cherry', 'durian', 'guava', 'melon']) \\\n",
        "    | beam.WithKeys(lambda word: word[0:1]) \\\n",
        "    | beam.Map(print)"
      ],
      "metadata": {
        "id": "7CfL9I36bXJr"
      },
      "execution_count": null,
      "outputs": []
    },
    {
      "cell_type": "markdown",
      "source": [
        "### *** Challenge**\n",
        "\n",
        "***Common Transforms motivating challenge***\n",
        "\n",
        "use 'gs://apache-beam-samples/nyc_taxi/misc/sample1000.csv'\n",
        "\n",
        "\n",
        "You are provided with a PCollection created from the array of taxi order prices in a csv file. Your task is to find how many orders are below '**15 dollars**' and how many are equal to or above '**$15**'. Return it as a map structure (key-value), make above or below the key, and the total dollar value (sum) of orders - the value. Although there are many ways to do this, try using another transformation presented in this module."
      ],
      "metadata": {
        "id": "nO8WLIY9tN2Y"
      }
    },
    {
      "cell_type": "code",
      "source": [
        "class MinCount(beam.PTransform):\n",
        "    def expand(self,input):\n",
        "        return input | beam.Filter(lambda cost:cost<15) |beam.combiners.Count.Globally()\n",
        "\n",
        "\n",
        "class MaxCount(beam.PTransform):\n",
        "    def expand(self,input):\n",
        "        return input | beam.Filter(lambda cost:cost>=15) |beam.combiners.Count.Globally()\n",
        "\n",
        "class ExtractTaxiRideCostFn(beam.DoFn):\n",
        "\n",
        "    def process(self, element):\n",
        "        line = element.split(',')\n",
        "        return tryParseTaxiRideCost(line,16)\n",
        "\n",
        "\n",
        "def tryParseTaxiRideCost(line,index):\n",
        "    if(len(line) > index):\n",
        "      try:\n",
        "        yield float(line[index])\n",
        "      except:\n",
        "        yield float(0)\n",
        "    else:\n",
        "        yield float(0)"
      ],
      "metadata": {
        "id": "qXy8ynAAqRDx"
      },
      "execution_count": null,
      "outputs": []
    },
    {
      "cell_type": "code",
      "source": [
        "with beam.Pipeline() as p:\n",
        "    input  = (p | 'Log lines' >> beam.io.ReadFromText('sample1000.csv') \\\n",
        "    | beam.ParDo(ExtractTaxiRideCostFn()))\n",
        "    (input | beam.combiners.Count.Globally() | beam.WithKeys(lambda cost : \"Total Records in Data\") | Output(label = \"Total\"))\n",
        "    (input | MinCount() | beam.WithKeys(lambda cost : \"Less than 15\") |Output(label = \"Min\"))\n",
        "    (input | MaxCount() | beam.WithKeys(lambda cost : \"Greater than 15\") | Output(label = \"max\"))"
      ],
      "metadata": {
        "colab": {
          "base_uri": "https://localhost:8080/"
        },
        "id": "Pg6NZEdqrI-g",
        "outputId": "18428011-0d1f-4dd2-e29a-5a7906c78c75"
      },
      "execution_count": null,
      "outputs": [
        {
          "output_type": "stream",
          "name": "stdout",
          "text": [
            "('Greater than 15', 394)\n",
            "('Total Records in Data', 1000)\n",
            "('Less than 15', 606)\n"
          ]
        }
      ]
    },
    {
      "cell_type": "code",
      "source": [],
      "metadata": {
        "id": "PBN7CYNdrkr2"
      },
      "execution_count": null,
      "outputs": []
    }
  ]
}