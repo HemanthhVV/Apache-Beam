{
  "nbformat": 4,
  "nbformat_minor": 0,
  "metadata": {
    "colab": {
      "provenance": [],
      "authorship_tag": "ABX9TyOqoj+mpi5nv9wxelrAuSdp",
      "include_colab_link": true
    },
    "kernelspec": {
      "name": "python3",
      "display_name": "Python 3"
    },
    "language_info": {
      "name": "python"
    }
  },
  "cells": [
    {
      "cell_type": "markdown",
      "metadata": {
        "id": "view-in-github",
        "colab_type": "text"
      },
      "source": [
        "<a href=\"https://colab.research.google.com/github/HemanthhVV/Apache-Beam/blob/main/Beam_NoteBook_I.ipynb\" target=\"_parent\"><img src=\"https://colab.research.google.com/assets/colab-badge.svg\" alt=\"Open In Colab\"/></a>"
      ]
    },
    {
      "cell_type": "code",
      "execution_count": null,
      "metadata": {
        "id": "t0Nod3wRTDts"
      },
      "outputs": [],
      "source": [
        "!pip install apache-beam[gcp]"
      ]
    },
    {
      "cell_type": "code",
      "source": [
        "!pip install apache-beam"
      ],
      "metadata": {
        "id": "f-Q7Os-gTLAD"
      },
      "execution_count": null,
      "outputs": []
    },
    {
      "cell_type": "markdown",
      "source": [
        "Understanding the concepts of Pipelines,Pcollections,Ptransforms"
      ],
      "metadata": {
        "id": "f0v9-poBT2Nm"
      }
    },
    {
      "cell_type": "code",
      "source": [
        "#Basic Imports for the Further Processing\n",
        "import argparse\n",
        "import logging\n",
        "import re\n",
        "\n",
        "import apache_beam as beam\n",
        "from apache_beam.io import ReadFromText,WriteToText\n",
        "from apache_beam.options.pipeline_options import PipelineOptions\n",
        "from apache_beam.options.pipeline_options import SetupOptions"
      ],
      "metadata": {
        "id": "KKpeEEgCTY2x"
      },
      "execution_count": null,
      "outputs": []
    },
    {
      "cell_type": "code",
      "source": [
        "#Creating the class for the each transformation for the data\n",
        "class Output(beam.PTransform):\n",
        "    class _Transformation1(beam.DoFn):#Simply, DoFn is used for the creating Transformations\n",
        "        def process(self,element):\n",
        "            yield element,\" Transformation 1 Done 👌\"\n",
        "    class _Transformation2(beam.DoFn):\n",
        "        def process(self,element):\n",
        "            yield element,\" Transformation 2 Done \"\n",
        "    class _PrintingAfterTransformation(beam.DoFn):\n",
        "        def process(self,element):\n",
        "            print(list(','.join(tple) for tple in element) ,\" This is the final elemnt after the two transformations\")\n",
        "    def expand(self,input):#Arranging the transformations orders for our PTransform class\n",
        "        input \\#Pardo is used for applying the Transformataion which is created above\n",
        "        | beam.ParDo(self._Transformation1()) \\\n",
        "        | beam.ParDo(self._Transformation2()) \\\n",
        "        | beam.ParDo(self._PrintingAfterTransformation())\n"
      ],
      "metadata": {
        "id": "-tMze7nhT4-9"
      },
      "execution_count": null,
      "outputs": []
    },
    {
      "cell_type": "code",
      "source": [
        "with beam.Pipeline() as p:\n",
        "    (p | beam.Create([\"Sample Test text\"]) | Output())"
      ],
      "metadata": {
        "colab": {
          "base_uri": "https://localhost:8080/"
        },
        "id": "rHdW3it2Mgb3",
        "outputId": "76651eb7-262d-40ab-e81d-5028bb55b255"
      },
      "execution_count": null,
      "outputs": [
        {
          "output_type": "stream",
          "name": "stdout",
          "text": [
            "['Sample Test text, Transformation 1 Done 👌', ' ,T,r,a,n,s,f,o,r,m,a,t,i,o,n, ,2, ,D,o,n,e, ']  This is the final elemnt after the two transformations\n"
          ]
        }
      ]
    },
    {
      "cell_type": "code",
      "source": [
        "with beam.Pipeline() as p:#Creating the inline Pcollections\n",
        "    p | beam.Create([\n",
        "        \"Thus , HOw was the class?\",\n",
        "        \"\",\n",
        "        \"Enf of line\",\n",
        "        \"That's it\"\n",
        "    ]) | beam.Filter(lambda line : line!=\"\") | beam.Map(print)\n"
      ],
      "metadata": {
        "colab": {
          "base_uri": "https://localhost:8080/"
        },
        "id": "t4UI1wVINHTV",
        "outputId": "c0e3c15d-9785-497e-f844-9a495a595b07"
      },
      "execution_count": null,
      "outputs": [
        {
          "output_type": "stream",
          "name": "stdout",
          "text": [
            "Thus , HOw was the class?\n",
            "Enf of line\n",
            "That's it\n"
          ]
        }
      ]
    },
    {
      "cell_type": "code",
      "source": [],
      "metadata": {
        "id": "UwRZZp03cual"
      },
      "execution_count": null,
      "outputs": []
    }
  ]
}