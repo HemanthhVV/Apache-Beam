{
  "nbformat": 4,
  "nbformat_minor": 0,
  "metadata": {
    "colab": {
      "provenance": [],
      "gpuType": "T4",
      "authorship_tag": "ABX9TyNR/98X5jqt2e297cqpOePO",
      "include_colab_link": true
    },
    "kernelspec": {
      "name": "python3",
      "display_name": "Python 3"
    },
    "language_info": {
      "name": "python"
    },
    "accelerator": "GPU"
  },
  "cells": [
    {
      "cell_type": "markdown",
      "metadata": {
        "id": "view-in-github",
        "colab_type": "text"
      },
      "source": [
        "<a href=\"https://colab.research.google.com/github/HemanthhVV/Apache-Beam/blob/main/Beam_NoteBook_I.ipynb\" target=\"_parent\"><img src=\"https://colab.research.google.com/assets/colab-badge.svg\" alt=\"Open In Colab\"/></a>"
      ]
    },
    {
      "cell_type": "code",
      "execution_count": null,
      "metadata": {
        "id": "t0Nod3wRTDts"
      },
      "outputs": [],
      "source": [
        "!pip install apache-beam[gcp]"
      ]
    },
    {
      "cell_type": "code",
      "source": [
        "!pip install apache-beam"
      ],
      "metadata": {
        "id": "f-Q7Os-gTLAD"
      },
      "execution_count": null,
      "outputs": []
    },
    {
      "cell_type": "code",
      "source": [
        "!pip install apache-beam[interactive]"
      ],
      "metadata": {
        "id": "HmmXEGhbpqDy"
      },
      "execution_count": null,
      "outputs": []
    },
    {
      "cell_type": "markdown",
      "source": [
        "Understanding the concepts of Pipelines,Pcollections,Ptransforms"
      ],
      "metadata": {
        "id": "f0v9-poBT2Nm"
      }
    },
    {
      "cell_type": "code",
      "source": [
        "#Basic Imports for the Further Processing\n",
        "import argparse\n",
        "import logging\n",
        "import re\n",
        "\n",
        "import apache_beam as beam\n",
        "from apache_beam.io import ReadFromText,WriteToText\n",
        "from apache_beam.options.pipeline_options import PipelineOptions\n",
        "from apache_beam.options.pipeline_options import SetupOptions"
      ],
      "metadata": {
        "id": "KKpeEEgCTY2x"
      },
      "execution_count": 4,
      "outputs": []
    },
    {
      "cell_type": "code",
      "source": [
        "#Creating the class for the each transformation for the data\n",
        "class Output(beam.PTransform):\n",
        "    class _Transformation1(beam.DoFn):#Simply, DoFn is used for the creating Transformations\n",
        "        def process(self,element):\n",
        "            yield element,\" Transformation 1 Done 👌\"\n",
        "    class _Transformation2(beam.DoFn):\n",
        "        def process(self,element):\n",
        "            yield element,\" Transformation 2 Done \"\n",
        "    class _PrintingAfterTransformation(beam.DoFn):\n",
        "        def process(self,element):\n",
        "            print(list(','.join(tple) for tple in element) ,\" This is the final elemnt after the two transformations\")\n",
        "    def expand(self,input):#Arranging the transformations orders for our PTransform class\n",
        "          #Pardo is used for applying the Transformataion which is created above\n",
        "        input | beam.ParDo(self._Transformation1()) \\\n",
        "        | beam.ParDo(self._Transformation2()) \\\n",
        "        | beam.ParDo(self._PrintingAfterTransformation())\n"
      ],
      "metadata": {
        "id": "-tMze7nhT4-9"
      },
      "execution_count": 8,
      "outputs": []
    },
    {
      "cell_type": "code",
      "source": [
        "with beam.Pipeline() as p:\n",
        "    (p | beam.Create([\"Sample Test text\"]) | Output()) #Calling the Output Transformation class"
      ],
      "metadata": {
        "id": "rHdW3it2Mgb3",
        "colab": {
          "base_uri": "https://localhost:8080/",
          "height": 55
        },
        "outputId": "ffa124d5-a75a-48e7-f458-a36144ee690e"
      },
      "execution_count": 9,
      "outputs": [
        {
          "output_type": "display_data",
          "data": {
            "application/javascript": [
              "\n",
              "        if (typeof window.interactive_beam_jquery == 'undefined') {\n",
              "          var jqueryScript = document.createElement('script');\n",
              "          jqueryScript.src = 'https://code.jquery.com/jquery-3.4.1.slim.min.js';\n",
              "          jqueryScript.type = 'text/javascript';\n",
              "          jqueryScript.onload = function() {\n",
              "            var datatableScript = document.createElement('script');\n",
              "            datatableScript.src = 'https://cdn.datatables.net/1.10.20/js/jquery.dataTables.min.js';\n",
              "            datatableScript.type = 'text/javascript';\n",
              "            datatableScript.onload = function() {\n",
              "              window.interactive_beam_jquery = jQuery.noConflict(true);\n",
              "              window.interactive_beam_jquery(document).ready(function($){\n",
              "                \n",
              "              });\n",
              "            }\n",
              "            document.head.appendChild(datatableScript);\n",
              "          };\n",
              "          document.head.appendChild(jqueryScript);\n",
              "        } else {\n",
              "          window.interactive_beam_jquery(document).ready(function($){\n",
              "            \n",
              "          });\n",
              "        }"
            ]
          },
          "metadata": {}
        },
        {
          "output_type": "stream",
          "name": "stdout",
          "text": [
            "['Sample Test text, Transformation 1 Done 👌', ' ,T,r,a,n,s,f,o,r,m,a,t,i,o,n, ,2, ,D,o,n,e, ']  This is the final elemnt after the two transformations\n"
          ]
        }
      ]
    },
    {
      "cell_type": "code",
      "source": [
        "%%html\n",
        "<style>\n",
        "  /* Define your custom styles here */\n",
        "  .custom-cell {\n",
        "    background-color: #f25022;\n",
        "    border: 1px solid #ccc;\n",
        "    border-radius: 5px;\n",
        "    padding: 10px;\n",
        "    margin-bottom: 10px;\n",
        "    box-shadow: 0 2px 5px rgba(0, 0, 0, 0.1);\n",
        "  }\n",
        "</style>\n",
        "\n",
        "<div class=\"custom-cell\">\n",
        "  <h3>This is a styled cell</h3>\n",
        "  <p>You can add your content here.</p>\n",
        "</div>\n"
      ],
      "metadata": {
        "id": "AoXHicS8hsxU",
        "colab": {
          "base_uri": "https://localhost:8080/",
          "height": 114
        },
        "outputId": "18e7b488-4e2b-4136-d5e9-7c85fc56bd2c"
      },
      "execution_count": 10,
      "outputs": [
        {
          "output_type": "display_data",
          "data": {
            "text/plain": [
              "<IPython.core.display.HTML object>"
            ],
            "text/html": [
              "<style>\n",
              "  /* Define your custom styles here */\n",
              "  .custom-cell {\n",
              "    background-color: #f25022;\n",
              "    border: 1px solid #ccc;\n",
              "    border-radius: 5px;\n",
              "    padding: 10px;\n",
              "    margin-bottom: 10px;\n",
              "    box-shadow: 0 2px 5px rgba(0, 0, 0, 0.1);\n",
              "  }\n",
              "</style>\n",
              "\n",
              "<div class=\"custom-cell\">\n",
              "  <h3>This is a styled cell</h3>\n",
              "  <p>You can add your content here.</p>\n",
              "</div>\n"
            ]
          },
          "metadata": {}
        }
      ]
    },
    {
      "cell_type": "code",
      "source": [
        "with beam.Pipeline() as p:#Creating the inline Pcollections\n",
        "    p | beam.Create([\n",
        "        \"Thus , HOw was the class?\",\n",
        "        \"\",\n",
        "        \"Enf of line\",\n",
        "        \"That's it\"\n",
        "    ]) | beam.Filter(lambda line : line!=\"\") | beam.Map(print)\n"
      ],
      "metadata": {
        "id": "t4UI1wVINHTV",
        "colab": {
          "base_uri": "https://localhost:8080/"
        },
        "outputId": "42b2b440-ce8a-449d-92e0-f2990972e6bc"
      },
      "execution_count": 11,
      "outputs": [
        {
          "output_type": "stream",
          "name": "stdout",
          "text": [
            "Thus , HOw was the class?\n",
            "Enf of line\n",
            "That's it\n"
          ]
        }
      ]
    },
    {
      "cell_type": "code",
      "source": [
        "class Output(beam.PTransform):\n",
        "    class _Transform(beam.DoFn):\n",
        "        def __init__(self,prefix):\n",
        "            super().__init__\n",
        "            self.prefix = prefix\n",
        "        def process(self,elemnt):\n",
        "            print(self.prefix + str(elemnt))\n",
        "    def __init__(self,prefix = ''):\n",
        "        super().__init__\n",
        "        self.prefix = prefix\n",
        "    def expand(self,input):\n",
        "        input | beam.ParDo(self._Transform(self.prefix))\n"
      ],
      "metadata": {
        "id": "UwRZZp03cual"
      },
      "execution_count": 29,
      "outputs": []
    },
    {
      "cell_type": "code",
      "source": [
        "with beam.Pipeline() as p:\n",
        "    p | beam.io.ReadFromText('/content/kinglear.txt') \\\n",
        "    | beam.FlatMap(lambda sentence:sentence.split()) \\\n",
        "    | beam.Filter(lambda word: not word.isspace() or word.isalnum()) \\\n",
        "    | beam.combiners.Sample.FixedSizeGlobally(10) \\\n",
        "    | beam.FlatMap(lambda word: word) \\\n",
        "    | Output(prefix = 'Words->')\n"
      ],
      "metadata": {
        "colab": {
          "base_uri": "https://localhost:8080/"
        },
        "id": "ySTiUh9AnkGg",
        "outputId": "4c45b122-c2c0-4501-fcdb-013d5b53ffdb"
      },
      "execution_count": 32,
      "outputs": [
        {
          "output_type": "stream",
          "name": "stdout",
          "text": [
            "Words->turn\n",
            "Words->All\n",
            "Words->cause;\n",
            "Words->KING\n",
            "Words->a\n",
            "Words->I\n",
            "Words->in\n",
            "Words->this\n",
            "Words->pilgrimage:\n",
            "Words->my\n"
          ]
        }
      ]
    },
    {
      "cell_type": "code",
      "source": [
        "import pandas as pd\n",
        "df = pd.read_csv('/content/sample1000.csv')\n",
        "df.columns[16]\n",
        "df[\"VendorID\"].value_counts()"
      ],
      "metadata": {
        "id": "j2K6UlITpUXg",
        "colab": {
          "base_uri": "https://localhost:8080/"
        },
        "outputId": "c71b8aca-5983-43e8-dc02-26841c967cce"
      },
      "execution_count": 43,
      "outputs": [
        {
          "output_type": "execute_result",
          "data": {
            "text/plain": [
              "1    574\n",
              "2    424\n",
              "Name: VendorID, dtype: int64"
            ]
          },
          "metadata": {},
          "execution_count": 43
        }
      ]
    },
    {
      "cell_type": "code",
      "source": [
        "df.isna().sum()"
      ],
      "metadata": {
        "colab": {
          "base_uri": "https://localhost:8080/"
        },
        "id": "8RVXkwHWzy5q",
        "outputId": "512bf105-12a1-4127-a91d-e07ec797352a"
      },
      "execution_count": 44,
      "outputs": [
        {
          "output_type": "execute_result",
          "data": {
            "text/plain": [
              "VendorID                 0\n",
              "tpep_pickup_datetime     0\n",
              "tpep_dropoff_datetime    0\n",
              "passenger_count          0\n",
              "trip_distance            0\n",
              "RatecodeID               0\n",
              "store_and_fwd_flag       0\n",
              "PULocationID             0\n",
              "DOLocationID             0\n",
              "payment_type             0\n",
              "fare_amount              0\n",
              "extra                    0\n",
              "mta_tax                  0\n",
              "tip_amount               0\n",
              "tolls_amount             0\n",
              "improvement_surcharge    0\n",
              "total_amount             0\n",
              "dtype: int64"
            ]
          },
          "metadata": {},
          "execution_count": 44
        }
      ]
    },
    {
      "cell_type": "code",
      "source": [
        "class Output(beam.PTransform):\n",
        "    class _OutputFn(beam.DoFn):\n",
        "        def __init__(self, prefix=''):\n",
        "            super().__init__()\n",
        "            self.prefix = prefix\n",
        "\n",
        "        def process(self, element):\n",
        "            print(self.prefix+str(element))\n",
        "\n",
        "    def __init__(self, label=None,prefix=''):\n",
        "        super().__init__(label)\n",
        "        self.prefix = prefix\n",
        "\n",
        "    def expand(self, input):\n",
        "        input | beam.ParDo(self._OutputFn(self.prefix))"
      ],
      "metadata": {
        "id": "rR_6W0Px5u43"
      },
      "execution_count": 45,
      "outputs": []
    },
    {
      "cell_type": "markdown",
      "source": [
        "Just checking any missing values in the row(line) , if Not then, We are taking that line(row)'s total_amount else, ignored it\n"
      ],
      "metadata": {
        "id": "ELixA2OZ5zdG"
      }
    },
    {
      "cell_type": "code",
      "source": [
        "class ExtractTaxiRideCostFn(beam.DoFn):\n",
        "\n",
        "    def process(self, element):\n",
        "        line = element.split(',')\n",
        "        return tryParseTaxiRideCost(line,16)\n",
        "\n",
        "\n",
        "def tryParseTaxiRideCost(line,index):\n",
        "    if(len(line) > index):\n",
        "        # print(line[index])\n",
        "        yield line[index]\n",
        "    else:\n",
        "        # print(line)\n",
        "        yield 0.0"
      ],
      "metadata": {
        "id": "htrhcmY05avx"
      },
      "execution_count": 48,
      "outputs": []
    },
    {
      "cell_type": "code",
      "source": [
        "with beam.Pipeline() as p:\n",
        "  lines = p | 'Log lines' >> beam.io.ReadFromText('sample1000.csv') \\\n",
        "            | beam.ParDo(ExtractTaxiRideCostFn()) \\\n",
        "            | beam.combiners.Sample.FixedSizeGlobally(10) \\\n",
        "            | beam.FlatMap(lambda cost: cost) \\\n",
        "            | Output(prefix = 'Taxi cost: ')\n"
      ],
      "metadata": {
        "colab": {
          "base_uri": "https://localhost:8080/"
        },
        "id": "yt5lWUZP5yKn",
        "outputId": "e98f6e4c-2235-4f93-b40b-e869ee2f6eab"
      },
      "execution_count": 49,
      "outputs": [
        {
          "output_type": "stream",
          "name": "stdout",
          "text": [
            "Taxi cost: 8.3\n",
            "Taxi cost: 7.54\n",
            "Taxi cost: 12.3\n",
            "Taxi cost: 24.95\n",
            "Taxi cost: 19.1\n",
            "Taxi cost: 44.8\n",
            "Taxi cost: 16.8\n",
            "Taxi cost: 32.8\n",
            "Taxi cost: 23.8\n",
            "Taxi cost: 27.8\n"
          ]
        }
      ]
    },
    {
      "cell_type": "markdown",
      "source": [
        "# ***Beam Concepts***\n",
        "**Pipeline** - A pipeline is a user-constructed graph of transformations that defines the desired data processing operations.\n",
        "\n",
        "\n",
        "---\n",
        "\n",
        "\n",
        "**PCollection** - A PCollection is a data set or data stream. The data that a pipeline processes is part of a PCollection.\n",
        "\n",
        "\n",
        "\n",
        "---\n",
        "\n",
        "\n",
        "**PTransform** - A PTransform (or transform) represents a data processing operation, or a step, in your pipeline. A transform is applied to zero or more PCollection objects, and produces zero or more PCollection objects.\n",
        "\n",
        "---\n",
        "\n",
        "\n",
        "**Aggregation** - Aggregation is computing a value from multiple (1 or more) input elements.User-defined function (UDF) - Some Beam operations allow you to run user-defined code as a way to configure the transform.\n",
        "\n",
        "---\n",
        "\n",
        "**Schema** - A schema is a language-independent type definition for a PCollection. The schema for a PCollection defines elements of that PCollection as an ordered list of named fields.\n",
        "\n",
        "---\n",
        "\n",
        "**SDK** - A language-specific library that lets pipeline authors build transforms, construct their pipelines, and submit them to a runner.\n",
        "\n",
        "---\n",
        "\n",
        "**Runner** - A runner runs a Beam pipeline using the capabilities of your chosen data processing engine.\n",
        "\n",
        "---\n",
        "\n",
        "**Window** - A PCollection can be subdivided into windows based on the timestamps of the individual elements. Windows enable grouping operations over collections that grow over time by dividing the collection into windows of finite collections.\n",
        "\n",
        "---\n",
        "\n",
        "**Watermark** - A watermark is a guess as to when all data in a certain window is expected to have arrived. This is needed because data isn’t always guaranteed to arrive in a pipeline in event time order, or to always arrive at predictable intervals.\n",
        "\n",
        "---\n",
        "\n",
        "**Trigger** - A trigger determines when to aggregate the results of each window.State and timers - Per-key state and timer callbacks are lower level primitives that give you full control over aggregating input collections that grow over time.\n",
        "\n",
        "---\n",
        "\n",
        "**Splittable DoFn** - Splittable DoFns let you process elements in a non-monolithic way. You can checkpoint the processing of an element, and the runner can split the remaining work to yield additional parallelism."
      ],
      "metadata": {
        "id": "UY36sA6Y6Hwu"
      }
    },
    {
      "cell_type": "code",
      "source": [],
      "metadata": {
        "id": "gfx5s-oV838B"
      },
      "execution_count": null,
      "outputs": []
    }
  ]
}